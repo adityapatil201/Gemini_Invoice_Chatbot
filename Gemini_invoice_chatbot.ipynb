{
  "nbformat": 4,
  "nbformat_minor": 0,
  "metadata": {
    "colab": {
      "provenance": []
    },
    "kernelspec": {
      "name": "python3",
      "display_name": "Python 3"
    },
    "language_info": {
      "name": "python"
    }
  },
  "cells": [
    {
      "cell_type": "code",
      "source": [
        "!pip install -r requirements.txt"
      ],
      "metadata": {
        "id": "G8yFsc9kpqlu"
      },
      "execution_count": null,
      "outputs": []
    },
    {
      "cell_type": "code",
      "execution_count": 3,
      "metadata": {
        "id": "9nI_vmBRmhvl"
      },
      "outputs": [],
      "source": [
        "from dotenv import load_dotenv\n",
        "from PyPDF2 import PdfReader\n",
        "import os\n",
        "from PIL import Image\n",
        "import google.generativeai as genai\n",
        "from pdf2image import convert_from_bytes\n",
        "import fitz  # PyMuPDF\n",
        "from PIL import Image,ImageEnhance\n",
        "from IPython.display import Image as new_Image\n",
        "import shutil\n",
        "import joblib"
      ]
    },
    {
      "cell_type": "markdown",
      "source": [
        "**Enter your Gemini API key and path of Invoice(PDF)**"
      ],
      "metadata": {
        "id": "m7eJdxBWkWyZ"
      }
    },
    {
      "cell_type": "code",
      "source": [
        "\n",
        "API_key = input('Enter Gemini API Key : ')\n",
        "uploaded_file = input('Path of Invoice(PDF) : ')\n"
      ],
      "metadata": {
        "id": "vyGuMu6-mvgM"
      },
      "execution_count": null,
      "outputs": []
    },
    {
      "cell_type": "code",
      "source": [
        "genai.configure(api_key=API_key)\n",
        "model=genai.GenerativeModel('gemini-pro-vision')"
      ],
      "metadata": {
        "id": "K4dxcd_SlLlV"
      },
      "execution_count": 22,
      "outputs": []
    },
    {
      "cell_type": "code",
      "source": [
        "def get_gemini_response(input_prompt, image_data_list, user_input):\n",
        "    # Combine the input, image data, and user input into a single list\n",
        "    inputs = [input_prompt]\n",
        "    for image in image_data_list:\n",
        "        inputs.append(image[0])\n",
        "    inputs.append(user_input)\n",
        "    # Call the model with the combined inputs\n",
        "    response = model.generate_content(inputs)\n",
        "\n",
        "    return response.text\n",
        "\n",
        "def pdf_to_images(pdf_bytes, resolution=1200):\n",
        "    pdf_document = fitz.open(stream=pdf_bytes, filetype=\"pdf\")\n",
        "\n",
        "    images = []  # List to store images for each page\n",
        "\n",
        "    for page_number in range(pdf_document.page_count):\n",
        "        page = pdf_document.load_page(page_number)\n",
        "\n",
        "        # Customize Pixmap creation for improved quality\n",
        "        matrix = fitz.Matrix(resolution/300, resolution/300)\n",
        "        pixmap = page.get_pixmap(matrix=matrix, colorspace=\"rgb\")\n",
        "\n",
        "        # Create a white canvas\n",
        "        white_background = Image.new(\"RGB\", (pixmap.width, pixmap.height), (255, 255, 255))\n",
        "\n",
        "        # Create PIL image from the Pixmap and overlay it on the white canvas\n",
        "        pil_image = Image.frombytes(\"RGB\", (pixmap.width, pixmap.height), pixmap.samples)\n",
        "        white_background.paste(pil_image, (0, 0))\n",
        "\n",
        "        # Apply additional image enhancement if needed\n",
        "        enhanced_image = ImageEnhance.Contrast(white_background).enhance(1.5)  # Example contrast enhancement\n",
        "\n",
        "        images.append(enhanced_image)\n",
        "\n",
        "    return images\n",
        "\n",
        "def input_image_details(folder_path):\n",
        "\n",
        "\n",
        "    folder_path = os.path.join(os.getcwd(), folder_path)\n",
        "\n",
        "    image_parts_list=[]\n",
        "\n",
        "    for filename in os.listdir(folder_path):\n",
        "        # Check if the file exists\n",
        "        image_path = os.path.join(folder_path, filename)\n",
        "        if os.path.exists(image_path):\n",
        "            # Read the image into bytes\n",
        "            with open(image_path, \"rb\") as image_file:\n",
        "                bytes_data = image_file.read()\n",
        "\n",
        "            # Create a dictionary with the standardized structure\n",
        "            image_parts = [\n",
        "                {\n",
        "                    \"mime_type\": \"image/png\",  # Assuming PNG format for simplicity\n",
        "                    \"data\": bytes_data\n",
        "                }\n",
        "            ]\n",
        "\n",
        "            image_parts_list.append(image_parts)\n",
        "        else:\n",
        "            raise FileNotFoundError(\"Image file not found.\")\n",
        "\n",
        "    return image_parts_list\n",
        "\n",
        "\n",
        "def get_pdf_text(pdf_docs):\n",
        "    text=\"\"\n",
        "    for pdf in pdf_docs:\n",
        "        pdf_reader= PdfReader(pdf)\n",
        "        for page in pdf_reader.pages:\n",
        "            text+= page.extract_text()\n",
        "    return text"
      ],
      "metadata": {
        "id": "BHrBkYkJmvjB"
      },
      "execution_count": 23,
      "outputs": []
    },
    {
      "cell_type": "code",
      "source": [
        "ocr_info = 'No OCR info is provided for this file'\n",
        "\n",
        "if uploaded_file is not None:\n",
        "\n",
        "    file_extension = uploaded_file.split('.')[-1].lower()\n",
        "\n",
        "    if file_extension == 'pdf':\n",
        "\n",
        "        with open(uploaded_file, 'rb') as file:\n",
        "            pdf_bytes = file.read()\n",
        "\n",
        "        # Convert PDF to image using PyMuPDF\n",
        "        pdf_images = pdf_to_images(pdf_bytes)\n",
        "\n",
        "        ocr_info = get_pdf_text([uploaded_file])\n",
        "\n",
        "        # Remove existing \"uploaded_images\" folder if it exists\n",
        "        folder_name = \"uploaded_images\"\n",
        "        if os.path.exists(folder_name):\n",
        "            shutil.rmtree(folder_name)\n",
        "\n",
        "        # Create a new folder to save the images\n",
        "        os.makedirs(folder_name)\n",
        "\n",
        "        # Save each image in the folder with a numbered filename\n",
        "        for i, pdf_image in enumerate(pdf_images):\n",
        "            image_filename = f\"uploaded_image_{i+1}.jpg\"\n",
        "            image_path = os.path.join(folder_name, image_filename)\n",
        "            pdf_image.save(image_path)\n",
        "    else:\n",
        "        print('not a pdf ..... pls upload a pdf')\n"
      ],
      "metadata": {
        "id": "gHnw19FXmvlz"
      },
      "execution_count": 24,
      "outputs": []
    },
    {
      "cell_type": "code",
      "source": [
        "file_path = r'/content/input_prompt.txt'\n",
        "\n",
        "with open(file_path, 'r') as file:\n",
        "    input_prompt = file.read()\n",
        "\n",
        "input_prompt = input_prompt.replace('{ocr_info}', ocr_info)\n",
        "\n",
        "with open('/content/input_prompt2.txt', 'w') as file:\n",
        "    file.write(input_prompt)\n",
        "\n",
        "while True:\n",
        "    print('You : ',end='')\n",
        "    user_input=input()\n",
        "    print()\n",
        "    folder_path = '/content/uploaded_images'  # Replace with the actual folder path\n",
        "    image_data_list = input_image_details(folder_path)\n",
        "\n",
        "    response = get_gemini_response(input_prompt, image_data_list, user_input)\n",
        "\n",
        "    chat_history = f'User : {user_input} \\nYou : {response} \\n'\n",
        "    file_path = r'/content/input_prompt2.txt'\n",
        "\n",
        "    with open(file_path, 'a') as file:\n",
        "\n",
        "        file.write(chat_history)\n",
        "\n",
        "    input_prompt = input_prompt + chat_history\n",
        "\n",
        "    print(\"Gemini : \",end='')\n",
        "    print(response)\n",
        "    print()"
      ],
      "metadata": {
        "id": "eFvFonGPmvoc"
      },
      "execution_count": null,
      "outputs": []
    },
    {
      "cell_type": "code",
      "source": [],
      "metadata": {
        "id": "URDWno_wmv_0"
      },
      "execution_count": null,
      "outputs": []
    },
    {
      "cell_type": "code",
      "source": [],
      "metadata": {
        "id": "RkjAN70MmwCN"
      },
      "execution_count": null,
      "outputs": []
    },
    {
      "cell_type": "code",
      "source": [],
      "metadata": {
        "id": "NjURRqZumwE4"
      },
      "execution_count": null,
      "outputs": []
    },
    {
      "cell_type": "code",
      "source": [],
      "metadata": {
        "id": "oDrkSMbTmwIW"
      },
      "execution_count": null,
      "outputs": []
    }
  ]
}